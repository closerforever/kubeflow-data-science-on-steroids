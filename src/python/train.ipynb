{
 "cells": [
  {
   "cell_type": "markdown",
   "metadata": {},
   "source": [
    "# Classical Workflow"
   ]
  },
  {
   "cell_type": "markdown",
   "metadata": {},
   "source": [
    "## Data Exploration\n",
    "A crucial task for every machine learning approach is exploring the data and understanding the problem you want to solve.\n",
    "Additionally you may want to make sure if there is invalid data and exclude it so it doesn't distort your accuracy and so on. \n",
    "Besides that, especially for deep learning approaches, the equalization of sample categories can play a important role \n",
    "when it comes to model performance. Let's try to tackle such an exploration task for a typical classification problem.\n",
    "Our data consists of vehicle identification numbers (VIN) which are somehow similar to IMAI numbers of mobile phones. \n",
    "A few samples can be found in the pandas DataFrame below:"
   ]
  },
  {
   "cell_type": "code",
   "execution_count": 1,
   "metadata": {},
   "outputs": [
    {
     "data": {
      "text/html": [
       "<div>\n",
       "<style scoped>\n",
       "    .dataframe tbody tr th:only-of-type {\n",
       "        vertical-align: middle;\n",
       "    }\n",
       "\n",
       "    .dataframe tbody tr th {\n",
       "        vertical-align: top;\n",
       "    }\n",
       "\n",
       "    .dataframe thead th {\n",
       "        text-align: right;\n",
       "    }\n",
       "</style>\n",
       "<table border=\"1\" class=\"dataframe\">\n",
       "  <thead>\n",
       "    <tr style=\"text-align: right;\">\n",
       "      <th></th>\n",
       "      <th>Vin</th>\n",
       "      <th>GENERATIONNO</th>\n",
       "      <th>DESCRIPTION</th>\n",
       "      <th>MAKENAME</th>\n",
       "    </tr>\n",
       "  </thead>\n",
       "  <tbody>\n",
       "    <tr>\n",
       "      <th>61327</th>\n",
       "      <td>TMBJG9NP5H7046274</td>\n",
       "      <td>0.0</td>\n",
       "      <td>Superb (2015 - )</td>\n",
       "      <td>Skoda</td>\n",
       "    </tr>\n",
       "    <tr>\n",
       "      <th>80458</th>\n",
       "      <td>TMBJG9NP3J7514167</td>\n",
       "      <td>0.0</td>\n",
       "      <td>Superb (2015 - )</td>\n",
       "      <td>Skoda</td>\n",
       "    </tr>\n",
       "    <tr>\n",
       "      <th>48955</th>\n",
       "      <td>VSSZZZ5FZH6508003</td>\n",
       "      <td>1.0</td>\n",
       "      <td>Ateca (2016 - )</td>\n",
       "      <td>SEAT</td>\n",
       "    </tr>\n",
       "    <tr>\n",
       "      <th>36398</th>\n",
       "      <td>TMBJG9NP6H7022792</td>\n",
       "      <td>0.0</td>\n",
       "      <td>Superb (2015 - )</td>\n",
       "      <td>Skoda</td>\n",
       "    </tr>\n",
       "    <tr>\n",
       "      <th>93449</th>\n",
       "      <td>WVWZZZAUZJW097552</td>\n",
       "      <td>2.0</td>\n",
       "      <td>Golf (2017 - )</td>\n",
       "      <td>Volkswagen</td>\n",
       "    </tr>\n",
       "    <tr>\n",
       "      <th>98441</th>\n",
       "      <td>VSSZZZ5FZJ6530538</td>\n",
       "      <td>1.0</td>\n",
       "      <td>Ateca (2016 - )</td>\n",
       "      <td>SEAT</td>\n",
       "    </tr>\n",
       "    <tr>\n",
       "      <th>77324</th>\n",
       "      <td>VSSZZZ5FZJ6500548</td>\n",
       "      <td>1.0</td>\n",
       "      <td>Ateca (2016 - )</td>\n",
       "      <td>SEAT</td>\n",
       "    </tr>\n",
       "    <tr>\n",
       "      <th>41076</th>\n",
       "      <td>TMBJG9NP8H7040050</td>\n",
       "      <td>0.0</td>\n",
       "      <td>Superb (2015 - )</td>\n",
       "      <td>Skoda</td>\n",
       "    </tr>\n",
       "    <tr>\n",
       "      <th>60757</th>\n",
       "      <td>VSSZZZ5FZH6543964</td>\n",
       "      <td>1.0</td>\n",
       "      <td>Ateca (2016 - )</td>\n",
       "      <td>SEAT</td>\n",
       "    </tr>\n",
       "    <tr>\n",
       "      <th>31893</th>\n",
       "      <td>TMBJG9NP2H7500660</td>\n",
       "      <td>0.0</td>\n",
       "      <td>Superb (2015 - )</td>\n",
       "      <td>Skoda</td>\n",
       "    </tr>\n",
       "  </tbody>\n",
       "</table>\n",
       "</div>"
      ],
      "text/plain": [
       "                     Vin  GENERATIONNO       DESCRIPTION    MAKENAME\n",
       "61327  TMBJG9NP5H7046274           0.0  Superb (2015 - )       Skoda\n",
       "80458  TMBJG9NP3J7514167           0.0  Superb (2015 - )       Skoda\n",
       "48955  VSSZZZ5FZH6508003           1.0   Ateca (2016 - )        SEAT\n",
       "36398  TMBJG9NP6H7022792           0.0  Superb (2015 - )       Skoda\n",
       "93449  WVWZZZAUZJW097552           2.0    Golf (2017 - )  Volkswagen\n",
       "98441  VSSZZZ5FZJ6530538           1.0   Ateca (2016 - )        SEAT\n",
       "77324  VSSZZZ5FZJ6500548           1.0   Ateca (2016 - )        SEAT\n",
       "41076  TMBJG9NP8H7040050           0.0  Superb (2015 - )       Skoda\n",
       "60757  VSSZZZ5FZH6543964           1.0   Ateca (2016 - )        SEAT\n",
       "31893  TMBJG9NP2H7500660           0.0  Superb (2015 - )       Skoda"
      ]
     },
     "execution_count": 1,
     "metadata": {},
     "output_type": "execute_result"
    }
   ],
   "source": [
    "import dill\n",
    "with open(\"dataframe.dill\", \"rb\") as fp:\n",
    "    dataframe = dill.load(fp)\n",
    "\n",
    "dataframe.sample(frac=1).head(10)"
   ]
  },
  {
   "cell_type": "markdown",
   "metadata": {},
   "source": [
    "Our data contains four different vehicle types namely \"Skoda\", \"Volkswagen\", \"Peugot\" and \"SEAT\". Additionally a \n",
    "description containing their model and the first year they got into production are supplied. Looking at this were \n",
    "little snippet we should notice three things: \n",
    "- every Vin contains 17 characters\n",
    "- every vehicle type has been tagged with a generation number\n",
    "- identical models seem to have very similar Vins\n",
    "\n",
    "The similarity in the Vin structures is a result of how information is encoded within a single Vin. \n",
    "Such encoded data may be: \n",
    "- the place where the vehicle has been crafted\n",
    "- the vehicles origin country\n",
    "- first year of the models production\n",
    "- ...\n",
    "\n",
    "As there is many facturer and country related information we should generally be capable of distinguishing between\n",
    "different models from looking at their Vin. A typical application for this might be a garage where an automatical \n",
    "deduction of vehicle informations from their Vin can save quite a lot of time. But before building a model to \n",
    "help us do this task let's have a little check if our above assumptions work out. \n",
    "First let's look if there is any Vin not containing 17 characters. "
   ]
  },
  {
   "cell_type": "code",
   "execution_count": 2,
   "metadata": {},
   "outputs": [
    {
     "data": {
      "text/plain": [
       "True"
      ]
     },
     "execution_count": 2,
     "metadata": {},
     "output_type": "execute_result"
    }
   ],
   "source": [
    "dataframe[dataframe.Vin.apply(lambda x: len(x) < 17)].empty"
   ]
  },
  {
   "cell_type": "markdown",
   "metadata": {},
   "source": [
    "Great! There is no Vin shorter than 17 characters, so our first assumption (at least from what we can see within this data)\n",
    "is proved. Now lets check if the generation numbers always refer to the exact same model"
   ]
  },
  {
   "cell_type": "code",
   "execution_count": 3,
   "metadata": {},
   "outputs": [
    {
     "data": {
      "text/html": [
       "<div>\n",
       "<style scoped>\n",
       "    .dataframe tbody tr th:only-of-type {\n",
       "        vertical-align: middle;\n",
       "    }\n",
       "\n",
       "    .dataframe tbody tr th {\n",
       "        vertical-align: top;\n",
       "    }\n",
       "\n",
       "    .dataframe thead th {\n",
       "        text-align: right;\n",
       "    }\n",
       "</style>\n",
       "<table border=\"1\" class=\"dataframe\">\n",
       "  <thead>\n",
       "    <tr style=\"text-align: right;\">\n",
       "      <th></th>\n",
       "      <th>Vin</th>\n",
       "      <th>GENERATIONNO</th>\n",
       "      <th>DESCRIPTION</th>\n",
       "      <th>MAKENAME</th>\n",
       "    </tr>\n",
       "  </thead>\n",
       "  <tbody>\n",
       "    <tr>\n",
       "      <th>888</th>\n",
       "      <td>TMBJF73T4F9023304</td>\n",
       "      <td>0.0</td>\n",
       "      <td>Superb (2015 - )</td>\n",
       "      <td>Skoda</td>\n",
       "    </tr>\n",
       "    <tr>\n",
       "      <th>6389</th>\n",
       "      <td>VF38D9HD8FL009350</td>\n",
       "      <td>3.0</td>\n",
       "      <td>508 (2014 - )</td>\n",
       "      <td>Peugeot</td>\n",
       "    </tr>\n",
       "    <tr>\n",
       "      <th>6812</th>\n",
       "      <td>VSSZZZ5FZH6517864</td>\n",
       "      <td>1.0</td>\n",
       "      <td>Ateca (2016 - )</td>\n",
       "      <td>SEAT</td>\n",
       "    </tr>\n",
       "    <tr>\n",
       "      <th>25056</th>\n",
       "      <td>WVWZZZAUZHP309003</td>\n",
       "      <td>2.0</td>\n",
       "      <td>Golf (2017 - )</td>\n",
       "      <td>Volkswagen</td>\n",
       "    </tr>\n",
       "  </tbody>\n",
       "</table>\n",
       "</div>"
      ],
      "text/plain": [
       "                     Vin  GENERATIONNO       DESCRIPTION    MAKENAME\n",
       "888    TMBJF73T4F9023304           0.0  Superb (2015 - )       Skoda\n",
       "6389   VF38D9HD8FL009350           3.0     508 (2014 - )     Peugeot\n",
       "6812   VSSZZZ5FZH6517864           1.0   Ateca (2016 - )        SEAT\n",
       "25056  WVWZZZAUZHP309003           2.0    Golf (2017 - )  Volkswagen"
      ]
     },
     "execution_count": 3,
     "metadata": {},
     "output_type": "execute_result"
    }
   ],
   "source": [
    "dataframe.drop_duplicates(['MAKENAME', 'DESCRIPTION'])"
   ]
  },
  {
   "cell_type": "markdown",
   "metadata": {},
   "source": [
    "Only one entry for each generation number thus we can directly use those as labels later, Neat!\n",
    "For our last assumption, for not diving to deep into details, let's check an obvious pattern: the \"SEAT\" \n",
    "numbers containing \"VSS\":"
   ]
  },
  {
   "cell_type": "code",
   "execution_count": 4,
   "metadata": {},
   "outputs": [
    {
     "data": {
      "text/plain": [
       "True"
      ]
     },
     "execution_count": 4,
     "metadata": {},
     "output_type": "execute_result"
    }
   ],
   "source": [
    "non_vss = dataframe[dataframe.MAKENAME == \"SEAT\"].Vin.apply(lambda x: \"VSS\" not in x)\n",
    "dataframe[(dataframe.MAKENAME == \"SEAT\") & (non_vss)].empty"
   ]
  },
  {
   "cell_type": "markdown",
   "metadata": {},
   "source": [
    "This seems true to be as well. As a final step let's check for duplicates before we can create an actual dataset "
   ]
  },
  {
   "cell_type": "code",
   "execution_count": 5,
   "metadata": {},
   "outputs": [
    {
     "data": {
      "text/plain": [
       "881"
      ]
     },
     "execution_count": 5,
     "metadata": {},
     "output_type": "execute_result"
    }
   ],
   "source": [
    "len(dataframe[dataframe.duplicated([\"Vin\"])])"
   ]
  },
  {
   "cell_type": "markdown",
   "metadata": {},
   "source": [
    "Wow! There was plenty of them. Gladly we eliminate them before proceeding"
   ]
  },
  {
   "cell_type": "code",
   "execution_count": 6,
   "metadata": {},
   "outputs": [],
   "source": [
    "dataframe = dataframe.drop_duplicates(\"Vin\")"
   ]
  },
  {
   "cell_type": "markdown",
   "metadata": {},
   "source": [
    "Our main step would be creating the actual dataset. For that purpose the Vins will be binarized and equalized folds will be created. \n",
    "Sklearns [Stratified K-Fold](https://scikit-learn.org/stable/modules/generated/sklearn.model_selection.StratifiedKFold.html) and \n",
    "[Label Binarizer](https://scikit-learn.org/stable/modules/generated/sklearn.preprocessing.LabelBinarizer.html) are the best bet for this.\n",
    "As this still requires quite a lot of effort this work has been done and the dataset is stored to a folder called *dataset*.\n",
    "Note that the encoded data has been stored to images as it can be interpreted as such after encoding and it will be easier\n",
    "to import it to various frameworks data way. "
   ]
  },
  {
   "cell_type": "markdown",
   "metadata": {},
   "source": [
    "## Data Munging\n",
    "After exploring the data we got a glimpse of an idea of how our data is structured, \n",
    "but a few important steps still need to be done. Those include: \n",
    "- creating folded sets for later cross validating our model and\n",
    "- bringing the data to a format useable for training \n",
    "\n",
    "While for the sake of easy demonstration cross validation will not be done within \n",
    "this very simple example, let's have a look on how to absolve especially the second step \n",
    "in a resource friendly manner. The fastai package, as well as pytorch/pytorchbearer/istio etc. \n",
    "give a convenience class for that purpose. That way we even avoid RAM shortage while training \n",
    "(as the ressources will be loaded chunk by chunk)."
   ]
  },
  {
   "cell_type": "code",
   "execution_count": 8,
   "metadata": {},
   "outputs": [
    {
     "data": {
      "text/plain": [
       "ImageDataBunch;\n",
       "\n",
       "Train: LabelList (3040 items)\n",
       "x: ImageList\n",
       "Image (3, 17, 33),Image (3, 17, 33),Image (3, 17, 33),Image (3, 17, 33),Image (3, 17, 33)\n",
       "y: CategoryList\n",
       "3,3,3,3,3\n",
       "Path: dataset;\n",
       "\n",
       "Valid: LabelList (760 items)\n",
       "x: ImageList\n",
       "Image (3, 17, 33),Image (3, 17, 33),Image (3, 17, 33),Image (3, 17, 33),Image (3, 17, 33)\n",
       "y: CategoryList\n",
       "3,3,3,3,3\n",
       "Path: dataset;\n",
       "\n",
       "Test: None"
      ]
     },
     "execution_count": 8,
     "metadata": {},
     "output_type": "execute_result"
    }
   ],
   "source": [
    "from fastai.vision import ImageDataBunch\n",
    "dataset = ImageDataBunch.from_folder(\"dataset\", train=\"training\", valid=\"test\")\n",
    "dataset"
   ]
  },
  {
   "cell_type": "markdown",
   "metadata": {},
   "source": [
    "As mentioned before the data has been preprocessed. Let's see how the first folds class sample amount are distributed:"
   ]
  },
  {
   "cell_type": "code",
   "execution_count": 9,
   "metadata": {},
   "outputs": [
    {
     "data": {
      "text/plain": [
       "<matplotlib.legend.Legend at 0x7f03e9fa1128>"
      ]
     },
     "execution_count": 9,
     "metadata": {},
     "output_type": "execute_result"
    },
    {
     "data": {
      "image/png": "[encoded data removed]",
      "text/plain": [
       "<Figure size 864x720 with 1 Axes>"
      ]
     },
     "metadata": {
      "needs_background": "light"
     },
     "output_type": "display_data"
    }
   ],
   "source": [
    "import numpy as np\n",
    "from matplotlib import pyplot as plt\n",
    "\n",
    "_, training_counts = np.unique(dataset.train_ds.y.items, return_counts=True)\n",
    "_, test_counts = np.unique(dataset.valid_ds.y.items, return_counts=True)\n",
    "fig, ax = plt.subplots(figsize=(12, 10))\n",
    "ax = plt.bar([0, 1, 2, 3], height=training_counts, label=\"training set\")\n",
    "plt.bar([0, 1, 2, 3], height=test_counts, label=\"validation set\")\n",
    "plt.xticks([0, 1, 2, 3], [\"Skoda\", \"SEAT\", \"VW\", \"Peugeot\"])\n",
    "plt.subplots_adjust()\n",
    "plt.legend()"
   ]
  },
  {
   "cell_type": "markdown",
   "metadata": {},
   "source": [
    "There is around 760 samples for each class in the test set and 190 in the validation set respectively. \n",
    "Thats satisfying for a classification task. We can procede to training a model."
   ]
  },
  {
   "cell_type": "markdown",
   "metadata": {},
   "source": [
    "## Training Process\n",
    "Now that the data has been brought to a format we can work with let's setup a model \n",
    "to learn the representation. We will use the powerful fastai learning approach in order to do so."
   ]
  },
  {
   "cell_type": "code",
   "execution_count": 10,
   "metadata": {},
   "outputs": [
    {
     "data": {
      "text/html": [
       "<table border=\"1\" class=\"dataframe\">\n",
       "  <thead>\n",
       "    <tr style=\"text-align: left;\">\n",
       "      <th>epoch</th>\n",
       "      <th>train_loss</th>\n",
       "      <th>valid_loss</th>\n",
       "      <th>accuracy</th>\n",
       "      <th>time</th>\n",
       "    </tr>\n",
       "  </thead>\n",
       "  <tbody>\n",
       "    <tr>\n",
       "      <td>0</td>\n",
       "      <td>0.043314</td>\n",
       "      <td>10.907436</td>\n",
       "      <td>0.250000</td>\n",
       "      <td>00:32</td>\n",
       "    </tr>\n",
       "    <tr>\n",
       "      <td>1</td>\n",
       "      <td>0.012109</td>\n",
       "      <td>11.012269</td>\n",
       "      <td>0.250000</td>\n",
       "      <td>00:32</td>\n",
       "    </tr>\n",
       "    <tr>\n",
       "      <td>2</td>\n",
       "      <td>0.004237</td>\n",
       "      <td>0.000000</td>\n",
       "      <td>1.000000</td>\n",
       "      <td>00:32</td>\n",
       "    </tr>\n",
       "    <tr>\n",
       "      <td>3</td>\n",
       "      <td>0.001582</td>\n",
       "      <td>0.000000</td>\n",
       "      <td>1.000000</td>\n",
       "      <td>00:32</td>\n",
       "    </tr>\n",
       "    <tr>\n",
       "      <td>4</td>\n",
       "      <td>0.000624</td>\n",
       "      <td>0.000000</td>\n",
       "      <td>1.000000</td>\n",
       "      <td>00:32</td>\n",
       "    </tr>\n",
       "  </tbody>\n",
       "</table>"
      ],
      "text/plain": [
       "<IPython.core.display.HTML object>"
      ]
     },
     "metadata": {},
     "output_type": "display_data"
    }
   ],
   "source": [
    "from fastai.vision import *\n",
    "res18_learner = cnn_learner(dataset, models.resnet18,  pretrained=False, metrics=accuracy)\n",
    "res18_learner.fit_one_cycle(5)"
   ]
  },
  {
   "cell_type": "markdown",
   "metadata": {},
   "source": [
    "In order to get a better comparisson on the models performance a few other popular architectures may\n",
    "be used."
   ]
  },
  {
   "cell_type": "code",
   "execution_count": 14,
   "metadata": {},
   "outputs": [
    {
     "data": {
      "text/html": [
       "<table border=\"1\" class=\"dataframe\">\n",
       "  <thead>\n",
       "    <tr style=\"text-align: left;\">\n",
       "      <th>epoch</th>\n",
       "      <th>train_loss</th>\n",
       "      <th>valid_loss</th>\n",
       "      <th>accuracy</th>\n",
       "      <th>time</th>\n",
       "    </tr>\n",
       "  </thead>\n",
       "  <tbody>\n",
       "    <tr>\n",
       "      <td>0</td>\n",
       "      <td>0.103828</td>\n",
       "      <td>1.249534</td>\n",
       "      <td>0.493421</td>\n",
       "      <td>00:05</td>\n",
       "    </tr>\n",
       "    <tr>\n",
       "      <td>1</td>\n",
       "      <td>0.084349</td>\n",
       "      <td>3.159742</td>\n",
       "      <td>0.500000</td>\n",
       "      <td>00:05</td>\n",
       "    </tr>\n",
       "    <tr>\n",
       "      <td>2</td>\n",
       "      <td>0.029539</td>\n",
       "      <td>0.000001</td>\n",
       "      <td>1.000000</td>\n",
       "      <td>00:05</td>\n",
       "    </tr>\n",
       "    <tr>\n",
       "      <td>3</td>\n",
       "      <td>0.011040</td>\n",
       "      <td>0.000001</td>\n",
       "      <td>1.000000</td>\n",
       "      <td>00:05</td>\n",
       "    </tr>\n",
       "    <tr>\n",
       "      <td>4</td>\n",
       "      <td>0.004240</td>\n",
       "      <td>0.000001</td>\n",
       "      <td>1.000000</td>\n",
       "      <td>00:05</td>\n",
       "    </tr>\n",
       "  </tbody>\n",
       "</table>"
      ],
      "text/plain": [
       "<IPython.core.display.HTML object>"
      ]
     },
     "metadata": {},
     "output_type": "display_data"
    },
    {
     "data": {
      "text/html": [
       "<table border=\"1\" class=\"dataframe\">\n",
       "  <thead>\n",
       "    <tr style=\"text-align: left;\">\n",
       "      <th>epoch</th>\n",
       "      <th>train_loss</th>\n",
       "      <th>valid_loss</th>\n",
       "      <th>accuracy</th>\n",
       "      <th>time</th>\n",
       "    </tr>\n",
       "  </thead>\n",
       "  <tbody>\n",
       "    <tr>\n",
       "      <td>0</td>\n",
       "      <td>0.065466</td>\n",
       "      <td>3.280815</td>\n",
       "      <td>0.250000</td>\n",
       "      <td>00:59</td>\n",
       "    </tr>\n",
       "    <tr>\n",
       "      <td>1</td>\n",
       "      <td>0.018270</td>\n",
       "      <td>4.128419</td>\n",
       "      <td>0.250000</td>\n",
       "      <td>01:00</td>\n",
       "    </tr>\n",
       "    <tr>\n",
       "      <td>2</td>\n",
       "      <td>0.006384</td>\n",
       "      <td>0.000000</td>\n",
       "      <td>1.000000</td>\n",
       "      <td>00:59</td>\n",
       "    </tr>\n",
       "    <tr>\n",
       "      <td>3</td>\n",
       "      <td>0.002385</td>\n",
       "      <td>0.000000</td>\n",
       "      <td>1.000000</td>\n",
       "      <td>00:59</td>\n",
       "    </tr>\n",
       "    <tr>\n",
       "      <td>4</td>\n",
       "      <td>0.000913</td>\n",
       "      <td>0.000000</td>\n",
       "      <td>1.000000</td>\n",
       "      <td>00:59</td>\n",
       "    </tr>\n",
       "  </tbody>\n",
       "</table>"
      ],
      "text/plain": [
       "<IPython.core.display.HTML object>"
      ]
     },
     "metadata": {},
     "output_type": "display_data"
    }
   ],
   "source": [
    "squeeze_learner = cnn_learner(dataset, models.squeezenet1_1, pretrained=False, metrics=accuracy)\n",
    "squeeze_learner.fit_one_cycle(5)\n",
    "res34_learner = cnn_learner(dataset, models.resnet34, pretrained=False, metrics=accuracy)\n",
    "res34_learner.fit_one_cycle(5)"
   ]
  },
  {
   "cell_type": "markdown",
   "metadata": {},
   "source": [
    "Another very popular trick to increase performance is to use a transfer-learning with pretrained models.\n",
    "Again fastai enables us to do so as follows"
   ]
  },
  {
   "cell_type": "code",
   "execution_count": 13,
   "metadata": {},
   "outputs": [
    {
     "data": {
      "text/html": [
       "<table border=\"1\" class=\"dataframe\">\n",
       "  <thead>\n",
       "    <tr style=\"text-align: left;\">\n",
       "      <th>epoch</th>\n",
       "      <th>train_loss</th>\n",
       "      <th>valid_loss</th>\n",
       "      <th>accuracy</th>\n",
       "      <th>time</th>\n",
       "    </tr>\n",
       "  </thead>\n",
       "  <tbody>\n",
       "    <tr>\n",
       "      <td>0</td>\n",
       "      <td>0.149541</td>\n",
       "      <td>10.459501</td>\n",
       "      <td>0.250000</td>\n",
       "      <td>00:10</td>\n",
       "    </tr>\n",
       "    <tr>\n",
       "      <td>1</td>\n",
       "      <td>0.041723</td>\n",
       "      <td>5.034722</td>\n",
       "      <td>0.493421</td>\n",
       "      <td>00:10</td>\n",
       "    </tr>\n",
       "    <tr>\n",
       "      <td>2</td>\n",
       "      <td>0.014572</td>\n",
       "      <td>0.022158</td>\n",
       "      <td>0.998684</td>\n",
       "      <td>00:10</td>\n",
       "    </tr>\n",
       "    <tr>\n",
       "      <td>3</td>\n",
       "      <td>0.005450</td>\n",
       "      <td>0.015032</td>\n",
       "      <td>0.998684</td>\n",
       "      <td>00:10</td>\n",
       "    </tr>\n",
       "    <tr>\n",
       "      <td>4</td>\n",
       "      <td>0.002130</td>\n",
       "      <td>0.015129</td>\n",
       "      <td>0.998684</td>\n",
       "      <td>00:10</td>\n",
       "    </tr>\n",
       "  </tbody>\n",
       "</table>"
      ],
      "text/plain": [
       "<IPython.core.display.HTML object>"
      ]
     },
     "metadata": {},
     "output_type": "display_data"
    },
    {
     "name": "stderr",
     "output_type": "stream",
     "text": [
      "Downloading: \"https://download.pytorch.org/models/squeezenet1_1-f364aa15.pth\" to /home/mbu93/.cache/torch/checkpoints/squeezenet1_1-f364aa15.pth\n",
      "100%|██████████| 4.74M/4.74M [00:01<00:00, 4.02MB/s]\n"
     ]
    },
    {
     "data": {
      "text/html": [
       "<table border=\"1\" class=\"dataframe\">\n",
       "  <thead>\n",
       "    <tr style=\"text-align: left;\">\n",
       "      <th>epoch</th>\n",
       "      <th>train_loss</th>\n",
       "      <th>valid_loss</th>\n",
       "      <th>accuracy</th>\n",
       "      <th>time</th>\n",
       "    </tr>\n",
       "  </thead>\n",
       "  <tbody>\n",
       "    <tr>\n",
       "      <td>0</td>\n",
       "      <td>0.222412</td>\n",
       "      <td>5.343445</td>\n",
       "      <td>0.250000</td>\n",
       "      <td>00:02</td>\n",
       "    </tr>\n",
       "    <tr>\n",
       "      <td>1</td>\n",
       "      <td>0.062398</td>\n",
       "      <td>0.000000</td>\n",
       "      <td>1.000000</td>\n",
       "      <td>00:02</td>\n",
       "    </tr>\n",
       "    <tr>\n",
       "      <td>2</td>\n",
       "      <td>0.021871</td>\n",
       "      <td>0.000000</td>\n",
       "      <td>1.000000</td>\n",
       "      <td>00:02</td>\n",
       "    </tr>\n",
       "    <tr>\n",
       "      <td>3</td>\n",
       "      <td>0.008158</td>\n",
       "      <td>0.000000</td>\n",
       "      <td>1.000000</td>\n",
       "      <td>00:02</td>\n",
       "    </tr>\n",
       "    <tr>\n",
       "      <td>4</td>\n",
       "      <td>0.003117</td>\n",
       "      <td>0.000000</td>\n",
       "      <td>1.000000</td>\n",
       "      <td>00:02</td>\n",
       "    </tr>\n",
       "  </tbody>\n",
       "</table>"
      ],
      "text/plain": [
       "<IPython.core.display.HTML object>"
      ]
     },
     "metadata": {},
     "output_type": "display_data"
    },
    {
     "data": {
      "text/html": [
       "<table border=\"1\" class=\"dataframe\">\n",
       "  <thead>\n",
       "    <tr style=\"text-align: left;\">\n",
       "      <th>epoch</th>\n",
       "      <th>train_loss</th>\n",
       "      <th>valid_loss</th>\n",
       "      <th>accuracy</th>\n",
       "      <th>time</th>\n",
       "    </tr>\n",
       "  </thead>\n",
       "  <tbody>\n",
       "    <tr>\n",
       "      <td>0</td>\n",
       "      <td>0.173812</td>\n",
       "      <td>8.878108</td>\n",
       "      <td>0.250000</td>\n",
       "      <td>00:17</td>\n",
       "    </tr>\n",
       "    <tr>\n",
       "      <td>1</td>\n",
       "      <td>0.048493</td>\n",
       "      <td>12.441313</td>\n",
       "      <td>0.250000</td>\n",
       "      <td>00:17</td>\n",
       "    </tr>\n",
       "    <tr>\n",
       "      <td>2</td>\n",
       "      <td>0.017236</td>\n",
       "      <td>0.170833</td>\n",
       "      <td>1.000000</td>\n",
       "      <td>00:16</td>\n",
       "    </tr>\n",
       "    <tr>\n",
       "      <td>3</td>\n",
       "      <td>0.006428</td>\n",
       "      <td>0.000005</td>\n",
       "      <td>1.000000</td>\n",
       "      <td>00:17</td>\n",
       "    </tr>\n",
       "    <tr>\n",
       "      <td>4</td>\n",
       "      <td>0.002454</td>\n",
       "      <td>0.000004</td>\n",
       "      <td>1.000000</td>\n",
       "      <td>00:17</td>\n",
       "    </tr>\n",
       "  </tbody>\n",
       "</table>"
      ],
      "text/plain": [
       "<IPython.core.display.HTML object>"
      ]
     },
     "metadata": {},
     "output_type": "display_data"
    }
   ],
   "source": [
    "res18_learner_pre = cnn_learner(dataset, models.resnet18, pretrained=True, metrics=accuracy)\n",
    "res18_learner_pre.fit_one_cycle(5)\n",
    "squeeze_learner_pre = cnn_learner(dataset, models.squeezenet1_1, pretrained=True, metrics=accuracy)\n",
    "squeeze_learner_pre.fit_one_cycle(5)\n",
    "res34_learner_pre = cnn_learner(dataset, models.resnet34, pretrained=True, metrics=accuracy)\n",
    "res34_learner_pre.fit_one_cycle(5)"
   ]
  },
  {
   "cell_type": "markdown",
   "metadata": {},
   "source": [
    "## Validating Performance & Deployment\n",
    "Finally we are capable of selecting a final model for deployment. Typically this can be \n",
    "done by comparing the performance of the used models. In real world applications additionally\n",
    "some steps for cross validating and serving the application would be taken which will be skipped\n",
    "here to keep things simple."
   ]
  },
  {
   "cell_type": "code",
   "execution_count": 15,
   "metadata": {},
   "outputs": [
    {
     "data": {
      "text/plain": [
       "[tensor(1.), tensor(1.), tensor(1.), tensor(1.), tensor(0.9987), tensor(1.)]"
      ]
     },
     "execution_count": 15,
     "metadata": {},
     "output_type": "execute_result"
    }
   ],
   "source": [
    "learners = [squeeze_learner, res18_learner, res34_learner, \n",
    "            squeeze_learner_pre, res18_learner_pre, res34_learner_pre]\n",
    "\n",
    "accuracys = [accuracy(*x.get_preds()) for x in learners]\n",
    "accuracys"
   ]
  },
  {
   "cell_type": "markdown",
   "metadata": {},
   "source": [
    "As the Squeezenet did the best job, practically it would be selected for deployment. To be even more sure\n",
    "we might want to have a final check on its confusion matrix as well."
   ]
  },
  {
   "cell_type": "code",
   "execution_count": 23,
   "metadata": {},
   "outputs": [
    {
     "data": {
      "image/png": "[encoded data removed]",
      "text/plain": [
       "<Figure size 576x576 with 1 Axes>"
      ]
     },
     "metadata": {
      "needs_background": "light"
     },
     "output_type": "display_data"
    }
   ],
   "source": [
    "interp = squeeze_learner_pre.interpret()\n",
    "interp.plot_confusion_matrix(figsize=(8, 8))"
   ]
  },
  {
   "cell_type": "markdown",
   "metadata": {},
   "source": [
    "# Creating Pipelines for reproducing the training process"
   ]
  },
  {
   "cell_type": "markdown",
   "metadata": {},
   "source": [
    "## Definitions\n",
    "After we have successfully build and selected a model we are ready to automate the training process.\n",
    "For that purpose KubeFlow Pipelines can be used. There are 3 ways of defining a pipeline:\n",
    "- pushing a training script to a docker image and execute it directly\n",
    "- using Google Cloud Storage for compiling python functions \n",
    "- writing lightweight components directly in python\n",
    "While the last option has the downside of very few options to pass data and the inherent \n",
    "condition to store temporary results, we will still use it because of its ease of implementation. \n",
    "Let's first of all define our python code for training etc. "
   ]
  },
  {
   "cell_type": "code",
   "execution_count": 15,
   "metadata": {},
   "outputs": [],
   "source": [
    "def setup_data_loader() -> str:\n",
    "    from fastai.vision import ImageDataBunch\n",
    "    import dill\n",
    "    import codecs\n",
    "    bunch = ImageDataBunch.from_folder(\n",
    "        \"test/images\", train=\"training\", valid=\"test\",\n",
    "        size=112)\n",
    "    return codecs.encode(dill.dumps(bunch), \"base64\").decode()\n",
    "\n",
    "\n",
    "def fit_squeezenet(loader: str, storage: str, pretrained: bool = False) -> str:\n",
    "    import dill\n",
    "    from fastai.vision import cnn_learner, accuracy, models\n",
    "    import codecs\n",
    "    name: str = \"squeezenet.model\"\n",
    "    loader = dill.loads(codecs.decode(loader.encode(), \"base64\"))\n",
    "    learner = cnn_learner(\n",
    "        loader, models.squeezenet1_0, pretrained=False, metrics=accuracy,\n",
    "        silent=False, add_time=True)\n",
    "    learner.fit_one_cycle(1)\n",
    "\n",
    "    outpath = storage + \"/\" + name\n",
    "    with open(outpath, \"wb\") as fp:\n",
    "        dill.dump(learner, fp)\n",
    "\n",
    "    return outpath\n",
    "\n",
    "def fit_resnet18(loader: str, storage: str, pretrained: bool = False) -> str:\n",
    "    import dill\n",
    "    from fastai.vision import cnn_learner, accuracy, models\n",
    "    import codecs\n",
    "    name = \"res18.model\"\n",
    "    loader = dill.loads(codecs.decode(loader.encode(), \"base64\"))\n",
    "    learner = cnn_learner(\n",
    "        loader, models.resnet18, pretrained=False, metrics=accuracy)\n",
    "    learner.fit_one_cycle(1)\n",
    "\n",
    "    outpath = storage + \"/\" + name\n",
    "    with open(outpath, \"wb\") as fp:\n",
    "        dill.dump(learner, fp)\n",
    "\n",
    "    return outpath\n",
    "\n",
    "\n",
    "def fit_resnet(loader: str, storage: str, pretrained: bool = False) -> str:\n",
    "    import dill\n",
    "    from fastai.vision import cnn_learner, accuracy, models\n",
    "    import codecs\n",
    "    name = \"resnet.model\"\n",
    "    loader = dill.loads(codecs.decode(loader.encode(), \"base64\"))\n",
    "\n",
    "    learner = cnn_learner(\n",
    "        loader, models.resnet34, pretrained=False, metrics=accuracy)\n",
    "    learner.fit_one_cycle(1)\n",
    "\n",
    "    outpath = storage + \"/\" + name\n",
    "    with open(outpath, \"wb\") as fp:\n",
    "        dill.dump(learner, fp)\n",
    "\n",
    "    return outpath\n",
    "\n",
    "\n",
    "def get_accuracy(learner: str) -> float:\n",
    "    from fastai.vision import accuracy\n",
    "    import dill\n",
    "\n",
    "    with open(learner, 'rb') as fp:\n",
    "        learner = dill.load(fp)\n",
    "\n",
    "    return float(accuracy(*learner.get_preds()).numpy())\n",
    "\n",
    "\n",
    "def get_confusion(learner: str) -> str:\n",
    "    from fastai.vision import ClassificationInterpretation\n",
    "    import dill\n",
    "\n",
    "    with open(learner, 'rb') as fp:\n",
    "        learner = dill.load(fp)\n",
    "\n",
    "    interpreter = ClassificationInterpretation.from_learner(learner)\n",
    "    return str(interpreter.confusion_matrix())"
   ]
  },
  {
   "cell_type": "markdown",
   "metadata": {},
   "source": [
    "## Pipeline definition\n",
    "For defining the pipeline we will leverage the kfp packages capabilitys of compiling\n",
    "pipeline components. First of all we will set a few path definitions etc"
   ]
  },
  {
   "cell_type": "code",
   "execution_count": 16,
   "metadata": {},
   "outputs": [],
   "source": [
    "from os import path\n",
    "import json\n",
    "import os.path as path\n",
    "import sys\n",
    "from functools import wraps\n",
    "from typing import Dict\n",
    "\n",
    "import kfp.dsl as dsl\n",
    "import numpy as np\n",
    "from kfp import compiler\n",
    "from kfp.compiler import Compiler\n",
    "from kfp.components import func_to_container_op as py_convert\n",
    "from kfp.dsl import ContainerOp, ExitHandler, pipeline\n",
    "from kubernetes import client as k8s\n",
    "\n",
    "OUT_DIR = '/something'\n",
    "METADATA_FILE = 'mlpipeline-ui-metadata.json'\n",
    "METRICS_FILE = 'mlpipeline-metrics.json'\n",
    "METADATA_FILE_PATH = path.join(OUT_DIR, METADATA_FILE)\n",
    "METRICS_FILE_PATH = path.join(OUT_DIR, METRICS_FILE)\n",
    "SQUEEZE_FILE = \"squeezenet.model\"\n",
    "RES18_FILE = \"res18.model\"\n",
    "RESNET_FILE = \"resnet.model\"\n",
    "SQUEEZE_FILE_PATH = path.join(OUT_DIR, SQUEEZE_FILE)\n",
    "RES18_FILE_PATH = path.join(OUT_DIR, RES18_FILE)\n",
    "RESNET_FILE_PATH = path.join(OUT_DIR, RESNET_FILE)\n",
    "DEPLOYED_MODEL = SQUEEZE_FILE\n",
    "BASE_IMAGE = 'mbu93/kubeflow:latest'\n"
   ]
  },
  {
   "cell_type": "markdown",
   "metadata": {},
   "source": [
    "Now, as prototype demonstrating how deployment could be triggered, a component triggering a \n",
    "direct action within a container will be described as below"
   ]
  },
  {
   "cell_type": "code",
   "execution_count": 17,
   "metadata": {},
   "outputs": [],
   "source": [
    "def markdown_metadata(result: str) -> str:\n",
    "    return json.dumps({\n",
    "        'outputs': [{\n",
    "            'type': 'markdown',\n",
    "            'source': 'The result: %s' % result,\n",
    "            'storage': 'inline',\n",
    "        }]\n",
    "    })\n",
    "\n",
    "def default_artifact_path() -> Dict[str, str]:\n",
    "    return {\n",
    "        path.splitext(METADATA_FILE)[0]: METADATA_FILE_PATH,\n",
    "        path.splitext(METRICS_FILE)[0]: METRICS_FILE_PATH,\n",
    "    }\n",
    "\n",
    "def demo_op(name: str, metadata=markdown_metadata,\n",
    "            is_exit_handler=False) -> ContainerOp:\n",
    "    op = ContainerOp(name=name,\n",
    "                     image=BASE_IMAGE,\n",
    "                     command=['sh', '-c'],\n",
    "                     arguments=[\n",
    "                         'echo \"Running step $0\" && echo \"$1\" > $2',\n",
    "                         name,\n",
    "                         metadata(name),\n",
    "                         METADATA_FILE_PATH,\n",
    "                     ],\n",
    "                     is_exit_handler=is_exit_handler)\n",
    "    op.add_volume(\n",
    "        k8s.V1Volume(name='volume',\n",
    "                     host_path=k8s.V1HostPathVolumeSource(path='/data/out')))\\\n",
    "        .add_volume_mount(k8s.V1VolumeMount(name='volume', mount_path=OUT_DIR))\n",
    "    return op"
   ]
  },
  {
   "cell_type": "markdown",
   "metadata": {},
   "source": [
    "In order to store and load data processed in earlier stages we will also define a wrapper which mounts \n",
    "a persistent volume to every lightweight components later"
   ]
  },
  {
   "cell_type": "code",
   "execution_count": 18,
   "metadata": {},
   "outputs": [],
   "source": [
    "def storage_op(func, *args):\n",
    "    op = py_convert(func, base_image=BASE_IMAGE)(*args)\n",
    "    op.add_volume(k8s.V1Volume(name='volume',\n",
    "                               host_path=k8s.V1HostPathVolumeSource(path='/data/out')))\\\n",
    "      .add_volume_mount(k8s.V1VolumeMount(name='volume', mount_path=OUT_DIR))\n",
    "    return op"
   ]
  },
  {
   "cell_type": "markdown",
   "metadata": {},
   "source": [
    "Now as final step we define the dedicated pipeline steps"
   ]
  },
  {
   "cell_type": "code",
   "execution_count": 19,
   "metadata": {},
   "outputs": [],
   "source": [
    "@pipeline(name='FastAI Training Pipeline', description='T')\n",
    "def training_pipeline(pretrained: bool = False):\n",
    "    deploy = demo_op('deploy', is_exit_handler=True)\n",
    "    with ExitHandler(deploy):\n",
    "        # setup the data loader\n",
    "        setup_data = py_convert(setup_data_loader, base_image=BASE_IMAGE)()\n",
    "\n",
    "        # fit all networks\n",
    "        fit_squeeze = storage_op(fit_squeezenet, setup_data.output, OUT_DIR, pretrained)\n",
    "        fit_res18 = storage_op(fit_resnet18, setup_data.output, OUT_DIR, pretrained)\n",
    "        fit_res = storage_op(fit_resnet, setup_data.output, OUT_DIR, pretrained)\n",
    "        fit_squeeze.default_artifact_paths = {path.splitext(SQUEEZE_FILE)[0]: SQUEEZE_FILE_PATH}\n",
    "        fit_res18.default_artifact_paths = {path.splitext(RES18_FILE)[0]: RES18_FILE_PATH}\n",
    "        fit_res.default_artifact_paths = {path.splitext(RESNET_FILE)[0]: RESNET_FILE_PATH}\n",
    "\n",
    "        # get the network accuracys\n",
    "        squeeze_acc = storage_op(get_accuracy, fit_squeeze.output)\n",
    "        res18_acc = storage_op(get_accuracy, fit_res18.output)\n",
    "        res_acc = storage_op(get_accuracy, fit_res.output)\n",
    "\n",
    "        # get the confusion matrices\n",
    "        squeeze_confusion = storage_op(get_confusion, fit_squeeze.output)\n",
    "        res18_confusion = storage_op(get_confusion, fit_res18.output)\n",
    "        res_confusion = storage_op(get_confusion, fit_res.output)\n",
    "\n",
    "        # save the best model for later deployment\n",
    "        models = np.array([SQUEEZE_FILE_PATH, RES18_FILE_PATH, RESNET_FILE_PATH])\n",
    "        best = np.argmax([squeeze_acc.output, res18_acc.output, res_acc.output])\n",
    "        globals()['DEPLOYED_MODEL'] = models[best]"
   ]
  },
  {
   "cell_type": "markdown",
   "metadata": {},
   "source": [
    "## Compiling the pipeline\n",
    "The pipeline described above will now be compiled using the kfg package"
   ]
  },
  {
   "cell_type": "code",
   "execution_count": 20,
   "metadata": {},
   "outputs": [],
   "source": [
    "pipeline_func = training_pipeline\n",
    "pipeline_filename = pipeline_func.__name__ + '.pipeline.yaml'\n",
    "Compiler().compile(pipeline_func, pipeline_filename)"
   ]
  },
  {
   "cell_type": "markdown",
   "metadata": {},
   "source": [
    "## Pipeline deployment\n",
    "Now that everything is setup and all steps are descibed the pipeline can be run on the cluster.\n",
    "For that purpose we will first create a prototype experiment to check if everything works fine. As the pretrained models parameters need to be downloaded at each container run, we will not use transfer learning for the tests to save time."
   ]
  },
  {
   "cell_type": "code",
   "execution_count": 30,
   "metadata": {},
   "outputs": [
    {
     "name": "stderr",
     "output_type": "stream",
     "text": [
      "/opt/conda/lib/python3.6/site-packages/kfp/_client.py:157: YAMLLoadWarning: calling yaml.load() without Loader=... is deprecated, as the default Loader is unsafe. Please read https://msg.pyyaml.org/load for full details.\n",
      "  return yaml.load(f)\n"
     ]
    },
    {
     "data": {
      "text/html": [
       "Run link <a href=\"/pipeline/#/runs/details/81a37c1e-c84d-11e9-a325-0800270c2570\" target=\"_blank\" >here</a>"
      ],
      "text/plain": [
       "<IPython.core.display.HTML object>"
      ]
     },
     "metadata": {},
     "output_type": "display_data"
    }
   ],
   "source": [
    "arguments = {'pretrained': 'False'}\n",
    "\n",
    "#Get or create an experiment and submit a pipeline run\n",
    "import kfp\n",
    "client = kfp.Client()\n",
    "\n",
    "try:\n",
    "    experiment = client.create_experiment(\"Prototyping\")\n",
    "except Exception:\n",
    "    experiment = client.get_experiment(experiment_name=\"Prototyping\")\n",
    "    \n",
    "#Submit a pipeline run\n",
    "run_name = pipeline_func.__name__ + ' test_run'\n",
    "run_result = client.run_pipeline(experiment.id, run_name, pipeline_filename, arguments)\n"
   ]
  }
 ],
 "metadata": {
  "kernelspec": {
   "display_name": "Python 3",
   "language": "python",
   "name": "python3"
  },
  "language_info": {
   "codemirror_mode": {
    "name": "ipython",
    "version": 3
   },
   "file_extension": ".py",
   "mimetype": "text/x-python",
   "name": "python",
   "nbconvert_exporter": "python",
   "pygments_lexer": "ipython3",
   "version": "3.7.3"
  }
 },
 "nbformat": 4,
 "nbformat_minor": 4
}
